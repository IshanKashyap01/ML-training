{
  "nbformat": 4,
  "nbformat_minor": 0,
  "metadata": {
    "colab": {
      "name": "Doge Coin prediction using rnn.ipynb",
      "provenance": [],
      "collapsed_sections": [],
      "include_colab_link": true
    },
    "kernelspec": {
      "name": "python3",
      "display_name": "Python 3"
    },
    "accelerator": "GPU",
    "gpuClass": "standard"
  },
  "cells": [
    {
      "cell_type": "markdown",
      "metadata": {
        "id": "view-in-github",
        "colab_type": "text"
      },
      "source": [
        "<a href=\"https://colab.research.google.com/github/IshanKashyap01/ML-training/blob/main/Doge_Coin_prediction_using_rnn.ipynb\" target=\"_parent\"><img src=\"https://colab.research.google.com/assets/colab-badge.svg\" alt=\"Open In Colab\"/></a>"
      ]
    },
    {
      "cell_type": "markdown",
      "metadata": {
        "id": "xpAuMVCwfWs8"
      },
      "source": [
        "# Recurrent Neural Network"
      ]
    },
    {
      "cell_type": "markdown",
      "metadata": {
        "id": "nxJfRe4bfYVA"
      },
      "source": [
        "## Part 1 - Data Preprocessing"
      ]
    },
    {
      "cell_type": "markdown",
      "metadata": {
        "id": "ir9zwETrfbrp"
      },
      "source": [
        "### Importing the libraries"
      ]
    },
    {
      "cell_type": "code",
      "metadata": {
        "id": "ZT1f24vHffuf"
      },
      "source": [
        "import numpy as np\n",
        "import matplotlib.pyplot as plt\n",
        "import pandas as pd"
      ],
      "execution_count": 1,
      "outputs": []
    },
    {
      "cell_type": "markdown",
      "metadata": {
        "id": "nQ47JAxrgmaL"
      },
      "source": [
        "### Importing the training set"
      ]
    },
    {
      "cell_type": "code",
      "metadata": {
        "id": "1xiv3pJOgqY3",
        "colab": {
          "base_uri": "https://localhost:8080/"
        },
        "outputId": "c18f5567-41e9-493f-e15c-d24103f91386"
      },
      "source": [
        "dataset_train = pd.read_csv('/content/Dogecoin_train.csv')\n",
        "training_set = dataset_train.iloc[:, 1:5].values\n",
        "training_set"
      ],
      "execution_count": 15,
      "outputs": [
        {
          "output_type": "execute_result",
          "data": {
            "text/plain": [
              "array([[2.46045470e-01, 2.66891350e-01, 2.40894350e-01, 2.64449680e-01],\n",
              "       [2.37673280e-01, 2.55126670e-01, 2.30972110e-01, 2.44783900e-01],\n",
              "       [2.63480250e-01, 2.89145320e-01, 2.30005650e-01, 2.39152930e-01],\n",
              "       ...,\n",
              "       [2.06889003e-04, 2.88790005e-04, 1.15593000e-04, 2.68539996e-04],\n",
              "       [2.99312000e-04, 8.65873997e-04, 1.50213004e-04, 2.04730997e-04],\n",
              "       [5.58776024e-04, 9.03883018e-04, 2.89601012e-04, 2.97880993e-04]])"
            ]
          },
          "metadata": {},
          "execution_count": 15
        }
      ]
    },
    {
      "cell_type": "markdown",
      "metadata": {
        "id": "HT8_2UJegtG5"
      },
      "source": [
        "### Feature Scaling"
      ]
    },
    {
      "cell_type": "code",
      "metadata": {
        "id": "OTrF2kR7gx9x"
      },
      "source": [
        "from sklearn.preprocessing import MinMaxScaler\n",
        "sc = MinMaxScaler(feature_range = (0, 1))\n",
        "training_set_scaled = sc.fit_transform(training_set)"
      ],
      "execution_count": 16,
      "outputs": []
    },
    {
      "cell_type": "markdown",
      "metadata": {
        "id": "JyYgYocqhNUg"
      },
      "source": [
        "### Creating a data structure with 60 timesteps and 1 output"
      ]
    },
    {
      "cell_type": "code",
      "metadata": {
        "id": "iofU21B0i6ST"
      },
      "source": [
        "X_train = []\n",
        "y_train = []\n",
        "for i in range(60, 1258):\n",
        "    X_train.append(training_set_scaled[i-60:i, 0])\n",
        "    y_train.append(training_set_scaled[i, 0])\n",
        "X_train, y_train = np.array(X_train), np.array(y_train)"
      ],
      "execution_count": 17,
      "outputs": []
    },
    {
      "cell_type": "markdown",
      "metadata": {
        "id": "D8yaN7Zvi95l"
      },
      "source": [
        "### Reshaping"
      ]
    },
    {
      "cell_type": "code",
      "metadata": {
        "id": "FOXqJHmNjBkz"
      },
      "source": [
        "X_train = np.reshape(X_train, (X_train.shape[0], X_train.shape[1], 1))"
      ],
      "execution_count": 18,
      "outputs": []
    },
    {
      "cell_type": "markdown",
      "metadata": {
        "id": "ZRRSOJeVjEWV"
      },
      "source": [
        "## Part 2 - Building and Training the RNN"
      ]
    },
    {
      "cell_type": "markdown",
      "metadata": {
        "id": "k4XV88JMjHXG"
      },
      "source": [
        "### Importing the Keras libraries and packages"
      ]
    },
    {
      "cell_type": "code",
      "metadata": {
        "id": "9JRnqsxEjKsD"
      },
      "source": [
        "from keras.models import Sequential\n",
        "from keras.layers import Dense\n",
        "from keras.layers import LSTM\n",
        "from keras.layers import Dropout"
      ],
      "execution_count": 19,
      "outputs": []
    },
    {
      "cell_type": "markdown",
      "metadata": {
        "id": "FEIE-1s9jNzC"
      },
      "source": [
        "### Initialising the RNN"
      ]
    },
    {
      "cell_type": "code",
      "metadata": {
        "id": "1338dJ0UjRKH"
      },
      "source": [
        "regressor = Sequential()"
      ],
      "execution_count": 20,
      "outputs": []
    },
    {
      "cell_type": "markdown",
      "metadata": {
        "id": "62eg1OPGjT8z"
      },
      "source": [
        "### Adding the first LSTM layer and some Dropout regularisation"
      ]
    },
    {
      "cell_type": "code",
      "metadata": {
        "id": "2hIinyXUjbVU"
      },
      "source": [
        "regressor.add(LSTM(units = 50, return_sequences = True, input_shape = (X_train.shape[1], 1)))\n",
        "regressor.add(Dropout(0.2))"
      ],
      "execution_count": 21,
      "outputs": []
    },
    {
      "cell_type": "markdown",
      "metadata": {
        "id": "3XBIYLyOjlMx"
      },
      "source": [
        "### Adding a second LSTM layer and some Dropout regularisation"
      ]
    },
    {
      "cell_type": "code",
      "metadata": {
        "id": "UG7nrVaSjuZ2"
      },
      "source": [
        "regressor.add(LSTM(units = 50, return_sequences = True))\n",
        "regressor.add(Dropout(0.2))"
      ],
      "execution_count": 22,
      "outputs": []
    },
    {
      "cell_type": "markdown",
      "metadata": {
        "id": "Ey3fHVnGj1cu"
      },
      "source": [
        "### Adding a third LSTM layer and some Dropout regularisation"
      ]
    },
    {
      "cell_type": "code",
      "metadata": {
        "id": "PuNi6PgFj7jO"
      },
      "source": [
        "regressor.add(LSTM(units = 50, return_sequences = True))\n",
        "regressor.add(Dropout(0.2))"
      ],
      "execution_count": 23,
      "outputs": []
    },
    {
      "cell_type": "markdown",
      "metadata": {
        "id": "SYTrtfTmj933"
      },
      "source": [
        "### Adding a fourth LSTM layer and some Dropout regularisation"
      ]
    },
    {
      "cell_type": "code",
      "metadata": {
        "id": "Jp4Ty8fRkBYV"
      },
      "source": [
        "regressor.add(LSTM(units = 50))\n",
        "regressor.add(Dropout(0.2))"
      ],
      "execution_count": 24,
      "outputs": []
    },
    {
      "cell_type": "markdown",
      "metadata": {
        "id": "9ABI6rOIkHhk"
      },
      "source": [
        "### Adding the output layer"
      ]
    },
    {
      "cell_type": "code",
      "metadata": {
        "id": "aM6R1z4WkME8"
      },
      "source": [
        "regressor.add(Dense(units = 1))"
      ],
      "execution_count": 25,
      "outputs": []
    },
    {
      "cell_type": "markdown",
      "metadata": {
        "id": "zLx4K7uUkPSh"
      },
      "source": [
        "### Compiling the RNN"
      ]
    },
    {
      "cell_type": "code",
      "metadata": {
        "id": "XTrhVN-tkbko"
      },
      "source": [
        "regressor.compile(optimizer = 'adam', loss = 'mean_squared_error')"
      ],
      "execution_count": 26,
      "outputs": []
    },
    {
      "cell_type": "markdown",
      "metadata": {
        "id": "-mPhwKGkkebi"
      },
      "source": [
        "### Fitting the RNN to the Training set"
      ]
    },
    {
      "cell_type": "code",
      "metadata": {
        "id": "I06Nkrz5kkb-",
        "colab": {
          "base_uri": "https://localhost:8080/"
        },
        "outputId": "a4e240fe-5d7b-49c6-fc2d-208c5a742d87"
      },
      "source": [
        "regressor.fit(X_train, y_train, epochs = 100, batch_size = 32)"
      ],
      "execution_count": 27,
      "outputs": [
        {
          "output_type": "stream",
          "name": "stdout",
          "text": [
            "Epoch 1/100\n",
            "38/38 [==============================] - 14s 151ms/step - loss: 8.6199e-04\n",
            "Epoch 2/100\n",
            "38/38 [==============================] - 5s 126ms/step - loss: 6.5540e-04\n",
            "Epoch 3/100\n",
            "38/38 [==============================] - 5s 124ms/step - loss: 6.6193e-04\n",
            "Epoch 4/100\n",
            "38/38 [==============================] - 5s 126ms/step - loss: 4.9674e-04\n",
            "Epoch 5/100\n",
            "38/38 [==============================] - 8s 220ms/step - loss: 6.4034e-04\n",
            "Epoch 6/100\n",
            "38/38 [==============================] - 11s 284ms/step - loss: 6.1898e-04\n",
            "Epoch 7/100\n",
            "38/38 [==============================] - 6s 157ms/step - loss: 6.6731e-04\n",
            "Epoch 8/100\n",
            "38/38 [==============================] - 5s 125ms/step - loss: 6.3778e-04\n",
            "Epoch 9/100\n",
            "38/38 [==============================] - 5s 124ms/step - loss: 4.1682e-04\n",
            "Epoch 10/100\n",
            "38/38 [==============================] - 5s 125ms/step - loss: 6.0323e-04\n",
            "Epoch 11/100\n",
            "38/38 [==============================] - 5s 126ms/step - loss: 4.2230e-04\n",
            "Epoch 12/100\n",
            "38/38 [==============================] - 5s 123ms/step - loss: 5.6589e-04\n",
            "Epoch 13/100\n",
            "38/38 [==============================] - 5s 126ms/step - loss: 4.6926e-04\n",
            "Epoch 14/100\n",
            "38/38 [==============================] - 5s 123ms/step - loss: 4.1865e-04\n",
            "Epoch 15/100\n",
            "38/38 [==============================] - 5s 125ms/step - loss: 2.9564e-04\n",
            "Epoch 16/100\n",
            "38/38 [==============================] - 5s 126ms/step - loss: 3.3833e-04\n",
            "Epoch 17/100\n",
            "38/38 [==============================] - 5s 125ms/step - loss: 2.7110e-04\n",
            "Epoch 18/100\n",
            "38/38 [==============================] - 5s 125ms/step - loss: 3.4650e-04\n",
            "Epoch 19/100\n",
            "38/38 [==============================] - 5s 126ms/step - loss: 3.1598e-04\n",
            "Epoch 20/100\n",
            "38/38 [==============================] - 5s 124ms/step - loss: 3.3707e-04\n",
            "Epoch 21/100\n",
            "38/38 [==============================] - 5s 123ms/step - loss: 2.1659e-04\n",
            "Epoch 22/100\n",
            "38/38 [==============================] - 5s 126ms/step - loss: 3.0487e-04\n",
            "Epoch 23/100\n",
            "38/38 [==============================] - 5s 126ms/step - loss: 2.5826e-04\n",
            "Epoch 24/100\n",
            "38/38 [==============================] - 5s 127ms/step - loss: 2.3187e-04\n",
            "Epoch 25/100\n",
            "38/38 [==============================] - 5s 125ms/step - loss: 2.4002e-04\n",
            "Epoch 26/100\n",
            "38/38 [==============================] - 5s 124ms/step - loss: 3.7152e-04\n",
            "Epoch 27/100\n",
            "38/38 [==============================] - 5s 123ms/step - loss: 2.9870e-04\n",
            "Epoch 28/100\n",
            "38/38 [==============================] - 5s 124ms/step - loss: 2.3930e-04\n",
            "Epoch 29/100\n",
            "38/38 [==============================] - 5s 122ms/step - loss: 3.4087e-04\n",
            "Epoch 30/100\n",
            "38/38 [==============================] - 5s 125ms/step - loss: 1.6233e-04\n",
            "Epoch 31/100\n",
            "38/38 [==============================] - 5s 124ms/step - loss: 2.1315e-04\n",
            "Epoch 32/100\n",
            "38/38 [==============================] - 5s 125ms/step - loss: 3.3123e-04\n",
            "Epoch 33/100\n",
            "38/38 [==============================] - 5s 125ms/step - loss: 3.1801e-04\n",
            "Epoch 34/100\n",
            "38/38 [==============================] - 5s 124ms/step - loss: 3.6252e-04\n",
            "Epoch 35/100\n",
            "38/38 [==============================] - 5s 124ms/step - loss: 2.5896e-04\n",
            "Epoch 36/100\n",
            "38/38 [==============================] - 5s 124ms/step - loss: 2.5555e-04\n",
            "Epoch 37/100\n",
            "38/38 [==============================] - 5s 123ms/step - loss: 2.2526e-04\n",
            "Epoch 38/100\n",
            "38/38 [==============================] - 5s 124ms/step - loss: 3.2512e-04\n",
            "Epoch 39/100\n",
            "38/38 [==============================] - 5s 125ms/step - loss: 2.9092e-04\n",
            "Epoch 40/100\n",
            "38/38 [==============================] - 5s 123ms/step - loss: 1.9871e-04\n",
            "Epoch 41/100\n",
            "38/38 [==============================] - 5s 124ms/step - loss: 2.6965e-04\n",
            "Epoch 42/100\n",
            "38/38 [==============================] - 5s 125ms/step - loss: 2.9232e-04\n",
            "Epoch 43/100\n",
            "38/38 [==============================] - 5s 124ms/step - loss: 2.5929e-04\n",
            "Epoch 44/100\n",
            "38/38 [==============================] - 5s 127ms/step - loss: 1.9249e-04\n",
            "Epoch 45/100\n",
            "38/38 [==============================] - 5s 125ms/step - loss: 3.4828e-04\n",
            "Epoch 46/100\n",
            "38/38 [==============================] - 5s 127ms/step - loss: 2.9920e-04\n",
            "Epoch 47/100\n",
            "38/38 [==============================] - 5s 125ms/step - loss: 1.5920e-04\n",
            "Epoch 48/100\n",
            "38/38 [==============================] - 5s 127ms/step - loss: 1.8702e-04\n",
            "Epoch 49/100\n",
            "38/38 [==============================] - 5s 125ms/step - loss: 2.2655e-04\n",
            "Epoch 50/100\n",
            "38/38 [==============================] - 5s 128ms/step - loss: 1.9116e-04\n",
            "Epoch 51/100\n",
            "38/38 [==============================] - 5s 123ms/step - loss: 2.3938e-04\n",
            "Epoch 52/100\n",
            "38/38 [==============================] - 5s 124ms/step - loss: 2.3488e-04\n",
            "Epoch 53/100\n",
            "38/38 [==============================] - 5s 124ms/step - loss: 1.6551e-04\n",
            "Epoch 54/100\n",
            "38/38 [==============================] - 5s 126ms/step - loss: 2.3902e-04\n",
            "Epoch 55/100\n",
            "38/38 [==============================] - 5s 127ms/step - loss: 3.1535e-04\n",
            "Epoch 56/100\n",
            "38/38 [==============================] - 5s 125ms/step - loss: 3.3726e-04\n",
            "Epoch 57/100\n",
            "38/38 [==============================] - 5s 127ms/step - loss: 1.8066e-04\n",
            "Epoch 58/100\n",
            "38/38 [==============================] - 5s 124ms/step - loss: 2.5817e-04\n",
            "Epoch 59/100\n",
            "38/38 [==============================] - 5s 126ms/step - loss: 1.3317e-04\n",
            "Epoch 60/100\n",
            "38/38 [==============================] - 5s 126ms/step - loss: 2.0151e-04\n",
            "Epoch 61/100\n",
            "38/38 [==============================] - 5s 126ms/step - loss: 1.3688e-04\n",
            "Epoch 62/100\n",
            "38/38 [==============================] - 5s 125ms/step - loss: 1.3834e-04\n",
            "Epoch 63/100\n",
            "38/38 [==============================] - 5s 125ms/step - loss: 1.4989e-04\n",
            "Epoch 64/100\n",
            "38/38 [==============================] - 5s 125ms/step - loss: 1.5146e-04\n",
            "Epoch 65/100\n",
            "38/38 [==============================] - 5s 125ms/step - loss: 1.5128e-04\n",
            "Epoch 66/100\n",
            "38/38 [==============================] - 5s 125ms/step - loss: 1.4788e-04\n",
            "Epoch 67/100\n",
            "38/38 [==============================] - 5s 125ms/step - loss: 2.1792e-04\n",
            "Epoch 68/100\n",
            "38/38 [==============================] - 5s 127ms/step - loss: 1.7789e-04\n",
            "Epoch 69/100\n",
            "38/38 [==============================] - 5s 127ms/step - loss: 1.9464e-04\n",
            "Epoch 70/100\n",
            "38/38 [==============================] - 5s 126ms/step - loss: 1.7251e-04\n",
            "Epoch 71/100\n",
            "38/38 [==============================] - 5s 125ms/step - loss: 2.9421e-04\n",
            "Epoch 72/100\n",
            "38/38 [==============================] - 5s 125ms/step - loss: 2.2282e-04\n",
            "Epoch 73/100\n",
            "38/38 [==============================] - 5s 124ms/step - loss: 2.8915e-04\n",
            "Epoch 74/100\n",
            "38/38 [==============================] - 5s 124ms/step - loss: 1.7123e-04\n",
            "Epoch 75/100\n",
            "38/38 [==============================] - 5s 126ms/step - loss: 2.3308e-04\n",
            "Epoch 76/100\n",
            "38/38 [==============================] - 5s 125ms/step - loss: 3.4385e-04\n",
            "Epoch 77/100\n",
            "38/38 [==============================] - 5s 125ms/step - loss: 2.1852e-04\n",
            "Epoch 78/100\n",
            "38/38 [==============================] - 5s 123ms/step - loss: 2.0025e-04\n",
            "Epoch 79/100\n",
            "38/38 [==============================] - 5s 126ms/step - loss: 1.5695e-04\n",
            "Epoch 80/100\n",
            "38/38 [==============================] - 5s 124ms/step - loss: 1.5810e-04\n",
            "Epoch 81/100\n",
            "38/38 [==============================] - 5s 127ms/step - loss: 1.6975e-04\n",
            "Epoch 82/100\n",
            "38/38 [==============================] - 5s 128ms/step - loss: 1.1448e-04\n",
            "Epoch 83/100\n",
            "38/38 [==============================] - 5s 124ms/step - loss: 1.6147e-04\n",
            "Epoch 84/100\n",
            "38/38 [==============================] - 5s 125ms/step - loss: 1.3122e-04\n",
            "Epoch 85/100\n",
            "38/38 [==============================] - 5s 126ms/step - loss: 1.3024e-04\n",
            "Epoch 86/100\n",
            "38/38 [==============================] - 5s 125ms/step - loss: 1.0284e-04\n",
            "Epoch 87/100\n",
            "38/38 [==============================] - 5s 124ms/step - loss: 1.0514e-04\n",
            "Epoch 88/100\n",
            "38/38 [==============================] - 5s 125ms/step - loss: 1.9087e-04\n",
            "Epoch 89/100\n",
            "38/38 [==============================] - 5s 123ms/step - loss: 1.3595e-04\n",
            "Epoch 90/100\n",
            "38/38 [==============================] - 5s 125ms/step - loss: 1.2330e-04\n",
            "Epoch 91/100\n",
            "38/38 [==============================] - 5s 125ms/step - loss: 1.4506e-04\n",
            "Epoch 92/100\n",
            "38/38 [==============================] - 5s 124ms/step - loss: 1.1617e-04\n",
            "Epoch 93/100\n",
            "38/38 [==============================] - 5s 125ms/step - loss: 1.3232e-04\n",
            "Epoch 94/100\n",
            "38/38 [==============================] - 5s 126ms/step - loss: 1.0324e-04\n",
            "Epoch 95/100\n",
            "38/38 [==============================] - 5s 124ms/step - loss: 1.5979e-04\n",
            "Epoch 96/100\n",
            "38/38 [==============================] - 5s 124ms/step - loss: 1.4223e-04\n",
            "Epoch 97/100\n",
            "38/38 [==============================] - 5s 126ms/step - loss: 1.4383e-04\n",
            "Epoch 98/100\n",
            "38/38 [==============================] - 5s 126ms/step - loss: 8.1236e-05\n",
            "Epoch 99/100\n",
            "38/38 [==============================] - 5s 126ms/step - loss: 1.0151e-04\n",
            "Epoch 100/100\n",
            "38/38 [==============================] - 5s 125ms/step - loss: 1.5005e-04\n"
          ]
        },
        {
          "output_type": "execute_result",
          "data": {
            "text/plain": [
              "<keras.callbacks.History at 0x7f99a49c1750>"
            ]
          },
          "metadata": {},
          "execution_count": 27
        }
      ]
    },
    {
      "cell_type": "markdown",
      "metadata": {
        "id": "4hRau_lIkrE8"
      },
      "source": [
        "## Part 3 - Making the predictions and visualising the results"
      ]
    },
    {
      "cell_type": "markdown",
      "metadata": {
        "id": "SgJO6qEDksxD"
      },
      "source": [
        "### Getting the real stock price of 2017"
      ]
    },
    {
      "cell_type": "code",
      "metadata": {
        "id": "FmBT2zqukxTz"
      },
      "source": [
        "dataset_test = pd.read_csv('/content/Doge_test.csv')\n",
        "real_stock_price = dataset_test.iloc[:, 1:5].values"
      ],
      "execution_count": 28,
      "outputs": []
    },
    {
      "cell_type": "markdown",
      "metadata": {
        "id": "GrvrLblxkz42"
      },
      "source": [
        "### Getting the predicted stock price of 2017"
      ]
    },
    {
      "cell_type": "code",
      "metadata": {
        "id": "emikTvUpk3Ck",
        "colab": {
          "base_uri": "https://localhost:8080/",
          "height": 380
        },
        "outputId": "b19f2d21-a26f-4708-9117-c82880aeef97"
      },
      "source": [
        "dataset_total = pd.concat((dataset_train['Open'], dataset_test['Open']), axis = 0)\n",
        "inputs = dataset_total[len(dataset_total) - len(dataset_test) - 60:].values\n",
        "inputs = inputs.reshape(-1,1)\n",
        "inputs = sc.transform(inputs)\n",
        "X_test = []\n",
        "for i in range(60, 80):\n",
        "    X_test.append(inputs[i-60:i, 0])\n",
        "X_test = np.array(X_test)\n",
        "X_test = np.reshape(X_test, (X_test.shape[0], X_test.shape[1], 1))\n",
        "predicted_stock_price = regressor.predict(X_test)\n",
        "predicted_stock_price = sc.inverse_transform(predicted_stock_price)"
      ],
      "execution_count": 31,
      "outputs": [
        {
          "output_type": "error",
          "ename": "ValueError",
          "evalue": "ignored",
          "traceback": [
            "\u001b[0;31m---------------------------------------------------------------------------\u001b[0m",
            "\u001b[0;31mValueError\u001b[0m                                Traceback (most recent call last)",
            "\u001b[0;32m<ipython-input-31-28c7941c2764>\u001b[0m in \u001b[0;36m<module>\u001b[0;34m()\u001b[0m\n\u001b[1;32m      2\u001b[0m \u001b[0minputs\u001b[0m \u001b[0;34m=\u001b[0m \u001b[0mdataset_total\u001b[0m\u001b[0;34m[\u001b[0m\u001b[0mlen\u001b[0m\u001b[0;34m(\u001b[0m\u001b[0mdataset_total\u001b[0m\u001b[0;34m)\u001b[0m \u001b[0;34m-\u001b[0m \u001b[0mlen\u001b[0m\u001b[0;34m(\u001b[0m\u001b[0mdataset_test\u001b[0m\u001b[0;34m)\u001b[0m \u001b[0;34m-\u001b[0m \u001b[0;36m60\u001b[0m\u001b[0;34m:\u001b[0m\u001b[0;34m]\u001b[0m\u001b[0;34m.\u001b[0m\u001b[0mvalues\u001b[0m\u001b[0;34m\u001b[0m\u001b[0;34m\u001b[0m\u001b[0m\n\u001b[1;32m      3\u001b[0m \u001b[0minputs\u001b[0m \u001b[0;34m=\u001b[0m \u001b[0minputs\u001b[0m\u001b[0;34m.\u001b[0m\u001b[0mreshape\u001b[0m\u001b[0;34m(\u001b[0m\u001b[0;34m-\u001b[0m\u001b[0;36m1\u001b[0m\u001b[0;34m,\u001b[0m\u001b[0;36m1\u001b[0m\u001b[0;34m)\u001b[0m\u001b[0;34m\u001b[0m\u001b[0;34m\u001b[0m\u001b[0m\n\u001b[0;32m----> 4\u001b[0;31m \u001b[0minputs\u001b[0m \u001b[0;34m=\u001b[0m \u001b[0msc\u001b[0m\u001b[0;34m.\u001b[0m\u001b[0mtransform\u001b[0m\u001b[0;34m(\u001b[0m\u001b[0minputs\u001b[0m\u001b[0;34m)\u001b[0m\u001b[0;34m\u001b[0m\u001b[0;34m\u001b[0m\u001b[0m\n\u001b[0m\u001b[1;32m      5\u001b[0m \u001b[0mX_test\u001b[0m \u001b[0;34m=\u001b[0m \u001b[0;34m[\u001b[0m\u001b[0;34m]\u001b[0m\u001b[0;34m\u001b[0m\u001b[0;34m\u001b[0m\u001b[0m\n\u001b[1;32m      6\u001b[0m \u001b[0;32mfor\u001b[0m \u001b[0mi\u001b[0m \u001b[0;32min\u001b[0m \u001b[0mrange\u001b[0m\u001b[0;34m(\u001b[0m\u001b[0;36m60\u001b[0m\u001b[0;34m,\u001b[0m \u001b[0;36m80\u001b[0m\u001b[0;34m)\u001b[0m\u001b[0;34m:\u001b[0m\u001b[0;34m\u001b[0m\u001b[0;34m\u001b[0m\u001b[0m\n",
            "\u001b[0;32m/usr/local/lib/python3.7/dist-packages/sklearn/preprocessing/_data.py\u001b[0m in \u001b[0;36mtransform\u001b[0;34m(self, X)\u001b[0m\n\u001b[1;32m    499\u001b[0m             \u001b[0mdtype\u001b[0m\u001b[0;34m=\u001b[0m\u001b[0mFLOAT_DTYPES\u001b[0m\u001b[0;34m,\u001b[0m\u001b[0;34m\u001b[0m\u001b[0;34m\u001b[0m\u001b[0m\n\u001b[1;32m    500\u001b[0m             \u001b[0mforce_all_finite\u001b[0m\u001b[0;34m=\u001b[0m\u001b[0;34m\"allow-nan\"\u001b[0m\u001b[0;34m,\u001b[0m\u001b[0;34m\u001b[0m\u001b[0;34m\u001b[0m\u001b[0m\n\u001b[0;32m--> 501\u001b[0;31m             \u001b[0mreset\u001b[0m\u001b[0;34m=\u001b[0m\u001b[0;32mFalse\u001b[0m\u001b[0;34m,\u001b[0m\u001b[0;34m\u001b[0m\u001b[0;34m\u001b[0m\u001b[0m\n\u001b[0m\u001b[1;32m    502\u001b[0m         )\n\u001b[1;32m    503\u001b[0m \u001b[0;34m\u001b[0m\u001b[0m\n",
            "\u001b[0;32m/usr/local/lib/python3.7/dist-packages/sklearn/base.py\u001b[0m in \u001b[0;36m_validate_data\u001b[0;34m(self, X, y, reset, validate_separately, **check_params)\u001b[0m\n\u001b[1;32m    583\u001b[0m \u001b[0;34m\u001b[0m\u001b[0m\n\u001b[1;32m    584\u001b[0m         \u001b[0;32mif\u001b[0m \u001b[0;32mnot\u001b[0m \u001b[0mno_val_X\u001b[0m \u001b[0;32mand\u001b[0m \u001b[0mcheck_params\u001b[0m\u001b[0;34m.\u001b[0m\u001b[0mget\u001b[0m\u001b[0;34m(\u001b[0m\u001b[0;34m\"ensure_2d\"\u001b[0m\u001b[0;34m,\u001b[0m \u001b[0;32mTrue\u001b[0m\u001b[0;34m)\u001b[0m\u001b[0;34m:\u001b[0m\u001b[0;34m\u001b[0m\u001b[0;34m\u001b[0m\u001b[0m\n\u001b[0;32m--> 585\u001b[0;31m             \u001b[0mself\u001b[0m\u001b[0;34m.\u001b[0m\u001b[0m_check_n_features\u001b[0m\u001b[0;34m(\u001b[0m\u001b[0mX\u001b[0m\u001b[0;34m,\u001b[0m \u001b[0mreset\u001b[0m\u001b[0;34m=\u001b[0m\u001b[0mreset\u001b[0m\u001b[0;34m)\u001b[0m\u001b[0;34m\u001b[0m\u001b[0;34m\u001b[0m\u001b[0m\n\u001b[0m\u001b[1;32m    586\u001b[0m \u001b[0;34m\u001b[0m\u001b[0m\n\u001b[1;32m    587\u001b[0m         \u001b[0;32mreturn\u001b[0m \u001b[0mout\u001b[0m\u001b[0;34m\u001b[0m\u001b[0;34m\u001b[0m\u001b[0m\n",
            "\u001b[0;32m/usr/local/lib/python3.7/dist-packages/sklearn/base.py\u001b[0m in \u001b[0;36m_check_n_features\u001b[0;34m(self, X, reset)\u001b[0m\n\u001b[1;32m    399\u001b[0m         \u001b[0;32mif\u001b[0m \u001b[0mn_features\u001b[0m \u001b[0;34m!=\u001b[0m \u001b[0mself\u001b[0m\u001b[0;34m.\u001b[0m\u001b[0mn_features_in_\u001b[0m\u001b[0;34m:\u001b[0m\u001b[0;34m\u001b[0m\u001b[0;34m\u001b[0m\u001b[0m\n\u001b[1;32m    400\u001b[0m             raise ValueError(\n\u001b[0;32m--> 401\u001b[0;31m                 \u001b[0;34mf\"X has {n_features} features, but {self.__class__.__name__} \"\u001b[0m\u001b[0;34m\u001b[0m\u001b[0;34m\u001b[0m\u001b[0m\n\u001b[0m\u001b[1;32m    402\u001b[0m                 \u001b[0;34mf\"is expecting {self.n_features_in_} features as input.\"\u001b[0m\u001b[0;34m\u001b[0m\u001b[0;34m\u001b[0m\u001b[0m\n\u001b[1;32m    403\u001b[0m             )\n",
            "\u001b[0;31mValueError\u001b[0m: X has 1 features, but MinMaxScaler is expecting 4 features as input."
          ]
        }
      ]
    },
    {
      "cell_type": "markdown",
      "metadata": {
        "id": "iFTNs3YHk6FQ"
      },
      "source": [
        "### Visualising the results"
      ]
    },
    {
      "cell_type": "code",
      "metadata": {
        "id": "8OUI8U49k9tH"
      },
      "source": [
        "plt.plot(real_stock_price, color = 'red', label = 'Real Google Stock Price')\n",
        "plt.plot(predicted_stock_price, color = 'blue', label = 'Predicted Google Stock Price')\n",
        "plt.title('Google Stock Price Prediction')\n",
        "plt.xlabel('Time')\n",
        "plt.ylabel('Google Stock Price')\n",
        "plt.legend()\n",
        "plt.show()"
      ],
      "execution_count": null,
      "outputs": []
    }
  ]
}