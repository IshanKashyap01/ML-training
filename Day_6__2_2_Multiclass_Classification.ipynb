{
  "nbformat": 4,
  "nbformat_minor": 0,
  "metadata": {
    "colab": {
      "name": "Copy of 2.2. Multiclass Classification.ipynb",
      "provenance": [],
      "include_colab_link": true
    },
    "language_info": {
      "codemirror_mode": {
        "name": "ipython",
        "version": 3
      },
      "file_extension": ".py",
      "mimetype": "text/x-python",
      "name": "python",
      "nbconvert_exporter": "python",
      "pygments_lexer": "ipython3",
      "version": "3.6.1"
    },
    "kernelspec": {
      "display_name": "Python 3",
      "language": "python",
      "name": "python3"
    }
  },
  "cells": [
    {
      "cell_type": "markdown",
      "metadata": {
        "id": "view-in-github",
        "colab_type": "text"
      },
      "source": [
        "<a href=\"https://colab.research.google.com/github/IshanKashyap01/ML-training/blob/main/Day_6__2_2_Multiclass_Classification.ipynb\" target=\"_parent\"><img src=\"https://colab.research.google.com/assets/colab-badge.svg\" alt=\"Open In Colab\"/></a>"
      ]
    },
    {
      "cell_type": "markdown",
      "metadata": {
        "id": "GAmM0ZmzwaXz"
      },
      "source": [
        "#  Importing packages"
      ]
    },
    {
      "cell_type": "code",
      "metadata": {
        "id": "sLL-Z-B1waX1"
      },
      "source": [
        "from __future__ import print_function\n",
        "import keras\n",
        "from keras.models import Sequential\n",
        "from keras.layers import Dense, Dropout, Flatten\n",
        "from keras import backend as K\n",
        "\n",
        "import tensorflow as tf"
      ],
      "execution_count": 1,
      "outputs": []
    },
    {
      "cell_type": "markdown",
      "metadata": {
        "id": "r2huTSawwaX6"
      },
      "source": [
        "# Preparing Dataset"
      ]
    },
    {
      "cell_type": "code",
      "metadata": {
        "id": "xHdqe8agwaX8",
        "colab": {
          "base_uri": "https://localhost:8080/"
        },
        "outputId": "ddc71014-63c9-421b-8d96-e628991bb09b"
      },
      "source": [
        "# Generate dummy data\n",
        "import numpy as np\n",
        "data = np.random.random((1000, 100))\n",
        "labels = np.random.randint(2, size=(1000, 1))\n",
        "\n",
        "# Convert labels to categorical one-hot encoding\n",
        "labels = tf.keras.utils.to_categorical(labels, num_classes=10)\n",
        "\n",
        "test_data = np.random.random((200, 100))\n",
        "test_labels = np.random.randint(2, size=(200, 1))\n",
        "test_labels = tf.keras.utils.to_categorical(test_labels, num_classes=10)\n",
        "\n",
        "print(test_labels.shape)"
      ],
      "execution_count": 2,
      "outputs": [
        {
          "output_type": "stream",
          "name": "stdout",
          "text": [
            "(200, 10)\n"
          ]
        }
      ]
    },
    {
      "cell_type": "markdown",
      "metadata": {
        "id": "ezvOthJvwaYD"
      },
      "source": [
        "# Building a Model"
      ]
    },
    {
      "cell_type": "code",
      "metadata": {
        "id": "LkTna8tnwaYE",
        "colab": {
          "base_uri": "https://localhost:8080/"
        },
        "outputId": "b147290c-8adf-4bf9-ce30-1d3531fa59f1"
      },
      "source": [
        "# For a single-input model with 10 classes (categorical classification):\n",
        "\n",
        "model = Sequential()\n",
        "model.add(Dense(32, activation='relu', input_dim=100))\n",
        "model.add(Dense(10, activation='softmax'))\n",
        "model.summary()"
      ],
      "execution_count": 3,
      "outputs": [
        {
          "output_type": "stream",
          "name": "stdout",
          "text": [
            "Model: \"sequential\"\n",
            "_________________________________________________________________\n",
            " Layer (type)                Output Shape              Param #   \n",
            "=================================================================\n",
            " dense (Dense)               (None, 32)                3232      \n",
            "                                                                 \n",
            " dense_1 (Dense)             (None, 10)                330       \n",
            "                                                                 \n",
            "=================================================================\n",
            "Total params: 3,562\n",
            "Trainable params: 3,562\n",
            "Non-trainable params: 0\n",
            "_________________________________________________________________\n"
          ]
        }
      ]
    },
    {
      "cell_type": "markdown",
      "metadata": {
        "id": "SO9yp25SwaYI"
      },
      "source": [
        "# Compile"
      ]
    },
    {
      "cell_type": "code",
      "metadata": {
        "id": "Qv9B70BMwaYJ",
        "colab": {
          "base_uri": "https://localhost:8080/"
        },
        "outputId": "3164c75d-67f7-4537-d149-f9ff9a4d5c37"
      },
      "source": [
        "model.compile(optimizer='rmsprop',\n",
        "              loss='categorical_crossentropy',\n",
        "              metrics=['accuracy'])\n",
        "\n",
        "# Train the model, iterating on the data in batches of 32 samples\n",
        "model.fit(data, labels, epochs=10, batch_size=32)"
      ],
      "execution_count": 4,
      "outputs": [
        {
          "output_type": "stream",
          "name": "stdout",
          "text": [
            "Epoch 1/10\n",
            "32/32 [==============================] - 1s 4ms/step - loss: 0.9927 - accuracy: 0.4990\n",
            "Epoch 2/10\n",
            "32/32 [==============================] - 0s 3ms/step - loss: 0.7316 - accuracy: 0.5250\n",
            "Epoch 3/10\n",
            "32/32 [==============================] - 0s 2ms/step - loss: 0.7121 - accuracy: 0.5310\n",
            "Epoch 4/10\n",
            "32/32 [==============================] - 0s 2ms/step - loss: 0.7011 - accuracy: 0.5400\n",
            "Epoch 5/10\n",
            "32/32 [==============================] - 0s 2ms/step - loss: 0.6933 - accuracy: 0.5470\n",
            "Epoch 6/10\n",
            "32/32 [==============================] - 0s 2ms/step - loss: 0.6926 - accuracy: 0.5650\n",
            "Epoch 7/10\n",
            "32/32 [==============================] - 0s 3ms/step - loss: 0.6857 - accuracy: 0.5660\n",
            "Epoch 8/10\n",
            "32/32 [==============================] - 0s 2ms/step - loss: 0.6822 - accuracy: 0.5710\n",
            "Epoch 9/10\n",
            "32/32 [==============================] - 0s 2ms/step - loss: 0.6733 - accuracy: 0.5800\n",
            "Epoch 10/10\n",
            "32/32 [==============================] - 0s 2ms/step - loss: 0.6730 - accuracy: 0.5710\n"
          ]
        },
        {
          "output_type": "execute_result",
          "data": {
            "text/plain": [
              "<keras.callbacks.History at 0x7ff5e757fe90>"
            ]
          },
          "metadata": {},
          "execution_count": 4
        }
      ]
    },
    {
      "cell_type": "markdown",
      "metadata": {
        "id": "tjp22AA0waYQ"
      },
      "source": [
        "# Evaluate"
      ]
    },
    {
      "cell_type": "code",
      "metadata": {
        "id": "8j2OXeATwaYR",
        "colab": {
          "base_uri": "https://localhost:8080/"
        },
        "outputId": "8c9dbcf5-db93-41b1-c368-4acf6bb79428"
      },
      "source": [
        "score = model.evaluate(test_data, test_labels, verbose=0)\n",
        "print('Test loss:', score[0])\n",
        "print('Test accuracy:', score[1])"
      ],
      "execution_count": 5,
      "outputs": [
        {
          "output_type": "stream",
          "name": "stdout",
          "text": [
            "Test loss: 0.7093567848205566\n",
            "Test accuracy: 0.550000011920929\n"
          ]
        }
      ]
    },
    {
      "cell_type": "markdown",
      "metadata": {
        "id": "d00Fw-NhwaYY"
      },
      "source": [
        "# Predict"
      ]
    },
    {
      "cell_type": "code",
      "metadata": {
        "id": "-KOehZdewaYa",
        "colab": {
          "base_uri": "https://localhost:8080/"
        },
        "outputId": "86fa976c-dde5-425d-bae2-17931af29de3"
      },
      "source": [
        "prediction = model.predict(np.random.random((1, 100)))\n",
        "print(prediction)\n",
        "print(sum(prediction[0]))\n",
        "(prediction>0.5)*1"
      ],
      "execution_count": 6,
      "outputs": [
        {
          "output_type": "stream",
          "name": "stdout",
          "text": [
            "[[4.5626059e-01 5.4369652e-01 1.7979007e-06 4.1347553e-06 4.1893913e-06\n",
            "  3.9855772e-06 2.1844785e-06 6.4765272e-06 1.2092776e-05 8.0354775e-06]]\n",
            "1.000000011342081\n"
          ]
        },
        {
          "output_type": "execute_result",
          "data": {
            "text/plain": [
              "array([[0, 1, 0, 0, 0, 0, 0, 0, 0, 0]])"
            ]
          },
          "metadata": {},
          "execution_count": 6
        }
      ]
    },
    {
      "cell_type": "markdown",
      "metadata": {
        "id": "lt9A0lnowaYh"
      },
      "source": [
        "# Exercise 1\n",
        "### Develop a multiclass classification model for the following. Populate a dataset 2000 samples where 1500 samples for training, 500 samples for testing. The dimension of each sample is 225. Build a neural network model with 64 nodes in first layer with Relu activation and sigmoid activation function for output layer. Run the model for 10 epochs with batch size of 16 samples. Evaluate the model with test data and print accuracy."
      ]
    },
    {
      "cell_type": "markdown",
      "metadata": {
        "id": "IIo6nD50waYi"
      },
      "source": [
        "# Exercise 2\n",
        "### Run the model with different number of epochs such as 10, 15, 20, 25 and compare the accuracies"
      ]
    },
    {
      "cell_type": "markdown",
      "metadata": {
        "id": "ng3jod9IwaYj"
      },
      "source": [
        "# Exercise 3\n",
        "### Run the model with different number of batch sizes such as 2, 4, 8, 16, 32, 64 and compare the accuracies"
      ]
    }
  ]
}